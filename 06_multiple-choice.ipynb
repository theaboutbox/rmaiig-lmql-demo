{
 "cells": [
  {
   "cell_type": "markdown",
   "metadata": {},
   "source": [
    "# Example: Answering multiple choice questions\n",
    "\n",
    "Guided prompting is useful for classification tasks, where it is useful to see both\n",
    "how the model answers and how confident that it is in its answers."
   ]
  },
  {
   "cell_type": "code",
   "execution_count": 13,
   "metadata": {},
   "outputs": [],
   "source": [
    "import lmql\n",
    "import lmql_demo.download as download\n",
    "from rich.pretty import pprint"
   ]
  },
  {
   "cell_type": "code",
   "execution_count": 14,
   "metadata": {},
   "outputs": [
    {
     "name": "stdout",
     "output_type": "stream",
     "text": [
      "The file 'llama2/mistral-7b-v0.1.Q4_K_M.gguf' already exists.\n"
     ]
    }
   ],
   "source": [
    "\n",
    "llama2_tokenizer = \"llama2/llama-tokenizer.model\"\n",
    "mistral_tokenizer = \"llama2/mistral-tokenizer.model\"\n",
    "model_filename = download.download_mistral()"
   ]
  },
  {
   "cell_type": "code",
   "execution_count": 15,
   "metadata": {},
   "outputs": [],
   "source": [
    "local_model = lmql.model(f\"local:llama.cpp:{model_filename}\", tokenizer=mistral_tokenizer)"
   ]
  },
  {
   "cell_type": "markdown",
   "metadata": {},
   "source": [
    "# Answer SAT Sample Questions\n",
    "\n",
    "This is a [sample language SAT question](https://www.princetonreview.com/college-advice/sat-practice-questions#!tab3) to demonstrate how we can leverage LMQL's ability to get probability distributions of tokens to answer test questions.\n",
    "\n",
    "The advantage of getting the distribution rather than making the LLM generate the token is that sometimes the LLM will pick the less likely token, especially if the probailities are very close."
   ]
  },
  {
   "cell_type": "code",
   "execution_count": 16,
   "metadata": {},
   "outputs": [],
   "source": [
    "question = \"\"\"After reading the passage below, choose the answer to each question that most \n",
    "effectively improves the quality of writing in the passage or that makes the passage \n",
    "conform to the conventions of standard written English. Many questions include a \"NO CHANGE\" \n",
    "option. Choose that option if you think the best choice is to leave the relevant portions of \n",
    "the passage as it is.\n",
    "\n",
    "The speakers of what has come to be known as (1) Appalachian English has used a form of English \n",
    "that few can explain. Many scholars believe Appalachian pronunciation comes from Scots-Irish \n",
    "immigration, but (2) some theorizes that this dialect of English may be closer to what Londoners \n",
    "spoke in Elizabethan times. Trying to understand these changes (3) demonstrate that although \n",
    "we all technically speak English, we speak very different languages indeed.\n",
    "\"\"\"\n",
    "\n",
    "prompt_1 = \"\"\"1.\n",
    "(A) NO CHANGE\n",
    "(B) Appalachian English uses\n",
    "(C) Appalachian English use\n",
    "(D) Appalachian English using\n",
    "\"\"\"\n",
    "\n",
    "prompt_2 = \"\"\"2.\n",
    "(A) NO CHANGE\n",
    "(B) some theorized\n",
    "(C) some have theorized\n",
    "(D) some theorize\n",
    "\"\"\"\n",
    "\n",
    "prompt_3 = \"\"\"3.\n",
    "(A) NO CHANGE\n",
    "(B) demonstrate that although we all technically spoke English, we speak\n",
    "(C) demonstrates that although we all technically speak English, we might have been speaking\n",
    "(D) demonstrates that although we all technically speak English, we speak\n",
    "\"\"\""
   ]
  },
  {
   "cell_type": "code",
   "execution_count": 17,
   "metadata": {},
   "outputs": [],
   "source": [
    "@lmql.query\n",
    "async def evaluate_question(question, prompt):\n",
    "    '''lmql\n",
    "    \"{question}\"\n",
    "    \"{prompt}\"\n",
    "    \"The answer is[ANSWER]\" distribution ANSWER in [\" A\", \" B\", \" C\", \" D\"]\n",
    "    '''"
   ]
  },
  {
   "cell_type": "code",
   "execution_count": 18,
   "metadata": {},
   "outputs": [],
   "source": [
    "lmql_response = await evaluate_question(question, prompt_1, model=local_model)"
   ]
  },
  {
   "cell_type": "code",
   "execution_count": 19,
   "metadata": {},
   "outputs": [
    {
     "data": {
      "text/html": [
       "<pre style=\"white-space:pre;overflow-x:auto;line-height:normal;font-family:Menlo,'DejaVu Sans Mono',consolas,'Courier New',monospace\"><span style=\"color: #800080; text-decoration-color: #800080; font-weight: bold\">LMQLResult</span><span style=\"font-weight: bold\">(</span>\n",
       "<span style=\"color: #7fbf7f; text-decoration-color: #7fbf7f\">│   </span><span style=\"color: #808000; text-decoration-color: #808000\">prompt</span>=<span style=\"color: #008000; text-decoration-color: #008000\">'After reading the passage below, choose the answer to each question that most \\neffectively improves the quality of writing in the passage or that makes the passage \\nconform to the conventions of standard written English. Many questions include a \"NO CHANGE\" \\noption. Choose that option if you think the best choice is to leave the relevant portions of \\nthe passage as it is.\\n\\nThe speakers of what has come to be known as (1) Appalachian English has used a form of English \\nthat few can explain. Many scholars believe Appalachian pronunciation comes from Scots-Irish \\nimmigration, but (2) some theorizes that this dialect of English may be closer to what Londoners \\nspoke in Elizabethan times. Trying to understand these changes (3) demonstrate that although \\nwe all technically speak English, we speak very different languages indeed.\\n1.\\n(A) NO CHANGE\\n(B) Appalachian English uses\\n(C) Appalachian English use\\n(D) Appalachian English using\\nThe answer is B'</span>,\n",
       "<span style=\"color: #7fbf7f; text-decoration-color: #7fbf7f\">│   </span><span style=\"color: #808000; text-decoration-color: #808000\">variables</span>=<span style=\"font-weight: bold\">{</span>\n",
       "<span style=\"color: #7fbf7f; text-decoration-color: #7fbf7f\">│   │   </span><span style=\"color: #008000; text-decoration-color: #008000\">'ANSWER'</span>: <span style=\"color: #008000; text-decoration-color: #008000\">' B'</span>,\n",
       "<span style=\"color: #7fbf7f; text-decoration-color: #7fbf7f\">│   │   </span><span style=\"color: #008000; text-decoration-color: #008000\">'P(ANSWER)'</span>: <span style=\"font-weight: bold\">[</span>\n",
       "<span style=\"color: #7fbf7f; text-decoration-color: #7fbf7f\">│   │   │   </span><span style=\"font-weight: bold\">(</span><span style=\"color: #008000; text-decoration-color: #008000\">' A'</span>, <span style=\"color: #008080; text-decoration-color: #008080; font-weight: bold\">0.21177774452108036</span><span style=\"font-weight: bold\">)</span>,\n",
       "<span style=\"color: #7fbf7f; text-decoration-color: #7fbf7f\">│   │   │   </span><span style=\"font-weight: bold\">(</span><span style=\"color: #008000; text-decoration-color: #008000\">' B'</span>, <span style=\"color: #008080; text-decoration-color: #008080; font-weight: bold\">0.32172428705079464</span><span style=\"font-weight: bold\">)</span>,\n",
       "<span style=\"color: #7fbf7f; text-decoration-color: #7fbf7f\">│   │   │   </span><span style=\"font-weight: bold\">(</span><span style=\"color: #008000; text-decoration-color: #008000\">' C'</span>, <span style=\"color: #008080; text-decoration-color: #008080; font-weight: bold\">0.2500616456539004</span><span style=\"font-weight: bold\">)</span>,\n",
       "<span style=\"color: #7fbf7f; text-decoration-color: #7fbf7f\">│   │   │   </span><span style=\"font-weight: bold\">(</span><span style=\"color: #008000; text-decoration-color: #008000\">' D'</span>, <span style=\"color: #008080; text-decoration-color: #008080; font-weight: bold\">0.2164363227742245</span><span style=\"font-weight: bold\">)</span>\n",
       "<span style=\"color: #7fbf7f; text-decoration-color: #7fbf7f\">│   │   </span><span style=\"font-weight: bold\">]</span>,\n",
       "<span style=\"color: #7fbf7f; text-decoration-color: #7fbf7f\">│   │   </span><span style=\"color: #008000; text-decoration-color: #008000\">'log P(ANSWER)'</span>: <span style=\"font-weight: bold\">[</span>\n",
       "<span style=\"color: #7fbf7f; text-decoration-color: #7fbf7f\">│   │   │   </span><span style=\"font-weight: bold\">(</span><span style=\"color: #008000; text-decoration-color: #008000\">' A'</span>, <span style=\"color: #008080; text-decoration-color: #008080; font-weight: bold\">-1.5522179291400433</span><span style=\"font-weight: bold\">)</span>,\n",
       "<span style=\"color: #7fbf7f; text-decoration-color: #7fbf7f\">│   │   │   </span><span style=\"font-weight: bold\">(</span><span style=\"color: #008000; text-decoration-color: #008000\">' B'</span>, <span style=\"color: #008080; text-decoration-color: #008080; font-weight: bold\">-1.1340603516253949</span><span style=\"font-weight: bold\">)</span>,\n",
       "<span style=\"color: #7fbf7f; text-decoration-color: #7fbf7f\">│   │   │   </span><span style=\"font-weight: bold\">(</span><span style=\"color: #008000; text-decoration-color: #008000\">' C'</span>, <span style=\"color: #008080; text-decoration-color: #008080; font-weight: bold\">-1.3860478089007855</span><span style=\"font-weight: bold\">)</span>,\n",
       "<span style=\"color: #7fbf7f; text-decoration-color: #7fbf7f\">│   │   │   </span><span style=\"font-weight: bold\">(</span><span style=\"color: #008000; text-decoration-color: #008000\">' D'</span>, <span style=\"color: #008080; text-decoration-color: #008080; font-weight: bold\">-1.5304588959369183</span><span style=\"font-weight: bold\">)</span>\n",
       "<span style=\"color: #7fbf7f; text-decoration-color: #7fbf7f\">│   │   </span><span style=\"font-weight: bold\">]</span>\n",
       "<span style=\"color: #7fbf7f; text-decoration-color: #7fbf7f\">│   </span><span style=\"font-weight: bold\">}</span>,\n",
       "<span style=\"color: #7fbf7f; text-decoration-color: #7fbf7f\">│   </span><span style=\"color: #808000; text-decoration-color: #808000\">distribution_variable</span>=<span style=\"color: #008000; text-decoration-color: #008000\">'ANSWER'</span>,\n",
       "<span style=\"color: #7fbf7f; text-decoration-color: #7fbf7f\">│   </span><span style=\"color: #808000; text-decoration-color: #808000\">distribution_values</span>=<span style=\"font-weight: bold\">[</span><span style=\"color: #008000; text-decoration-color: #008000\">' A'</span>, <span style=\"color: #008000; text-decoration-color: #008000\">' B'</span>, <span style=\"color: #008000; text-decoration-color: #008000\">' C'</span>, <span style=\"color: #008000; text-decoration-color: #008000\">' D'</span><span style=\"font-weight: bold\">]</span>,\n",
       "<span style=\"color: #7fbf7f; text-decoration-color: #7fbf7f\">│   </span><span style=\"color: #808000; text-decoration-color: #808000\">sequence</span>=<span style=\"color: #800080; text-decoration-color: #800080; font-style: italic\">None</span>\n",
       "<span style=\"font-weight: bold\">)</span>\n",
       "</pre>\n"
      ],
      "text/plain": [
       "\u001b[1;35mLMQLResult\u001b[0m\u001b[1m(\u001b[0m\n",
       "\u001b[2;32m│   \u001b[0m\u001b[33mprompt\u001b[0m=\u001b[32m'After reading the passage below, choose the answer to each question that most \\neffectively improves the quality of writing in the passage or that makes the passage \\nconform to the conventions of standard written English. Many questions include a \"NO CHANGE\" \\noption. Choose that option if you think the best choice is to leave the relevant portions of \\nthe passage as it is.\\n\\nThe speakers of what has come to be known as \u001b[0m\u001b[32m(\u001b[0m\u001b[32m1\u001b[0m\u001b[32m)\u001b[0m\u001b[32m Appalachian English has used a form of English \\nthat few can explain. Many scholars believe Appalachian pronunciation comes from Scots-Irish \\nimmigration, but \u001b[0m\u001b[32m(\u001b[0m\u001b[32m2\u001b[0m\u001b[32m)\u001b[0m\u001b[32m some theorizes that this dialect of English may be closer to what Londoners \\nspoke in Elizabethan times. Trying to understand these changes \u001b[0m\u001b[32m(\u001b[0m\u001b[32m3\u001b[0m\u001b[32m)\u001b[0m\u001b[32m demonstrate that although \\nwe all technically speak English, we speak very different languages indeed.\\n1.\\n\u001b[0m\u001b[32m(\u001b[0m\u001b[32mA\u001b[0m\u001b[32m)\u001b[0m\u001b[32m NO CHANGE\\n\u001b[0m\u001b[32m(\u001b[0m\u001b[32mB\u001b[0m\u001b[32m)\u001b[0m\u001b[32m Appalachian English uses\\n\u001b[0m\u001b[32m(\u001b[0m\u001b[32mC\u001b[0m\u001b[32m)\u001b[0m\u001b[32m Appalachian English use\\n\u001b[0m\u001b[32m(\u001b[0m\u001b[32mD\u001b[0m\u001b[32m)\u001b[0m\u001b[32m Appalachian English using\\nThe answer is B'\u001b[0m,\n",
       "\u001b[2;32m│   \u001b[0m\u001b[33mvariables\u001b[0m=\u001b[1m{\u001b[0m\n",
       "\u001b[2;32m│   │   \u001b[0m\u001b[32m'ANSWER'\u001b[0m: \u001b[32m' B'\u001b[0m,\n",
       "\u001b[2;32m│   │   \u001b[0m\u001b[32m'P\u001b[0m\u001b[32m(\u001b[0m\u001b[32mANSWER\u001b[0m\u001b[32m)\u001b[0m\u001b[32m'\u001b[0m: \u001b[1m[\u001b[0m\n",
       "\u001b[2;32m│   │   │   \u001b[0m\u001b[1m(\u001b[0m\u001b[32m' A'\u001b[0m, \u001b[1;36m0.21177774452108036\u001b[0m\u001b[1m)\u001b[0m,\n",
       "\u001b[2;32m│   │   │   \u001b[0m\u001b[1m(\u001b[0m\u001b[32m' B'\u001b[0m, \u001b[1;36m0.32172428705079464\u001b[0m\u001b[1m)\u001b[0m,\n",
       "\u001b[2;32m│   │   │   \u001b[0m\u001b[1m(\u001b[0m\u001b[32m' C'\u001b[0m, \u001b[1;36m0.2500616456539004\u001b[0m\u001b[1m)\u001b[0m,\n",
       "\u001b[2;32m│   │   │   \u001b[0m\u001b[1m(\u001b[0m\u001b[32m' D'\u001b[0m, \u001b[1;36m0.2164363227742245\u001b[0m\u001b[1m)\u001b[0m\n",
       "\u001b[2;32m│   │   \u001b[0m\u001b[1m]\u001b[0m,\n",
       "\u001b[2;32m│   │   \u001b[0m\u001b[32m'log P\u001b[0m\u001b[32m(\u001b[0m\u001b[32mANSWER\u001b[0m\u001b[32m)\u001b[0m\u001b[32m'\u001b[0m: \u001b[1m[\u001b[0m\n",
       "\u001b[2;32m│   │   │   \u001b[0m\u001b[1m(\u001b[0m\u001b[32m' A'\u001b[0m, \u001b[1;36m-1.5522179291400433\u001b[0m\u001b[1m)\u001b[0m,\n",
       "\u001b[2;32m│   │   │   \u001b[0m\u001b[1m(\u001b[0m\u001b[32m' B'\u001b[0m, \u001b[1;36m-1.1340603516253949\u001b[0m\u001b[1m)\u001b[0m,\n",
       "\u001b[2;32m│   │   │   \u001b[0m\u001b[1m(\u001b[0m\u001b[32m' C'\u001b[0m, \u001b[1;36m-1.3860478089007855\u001b[0m\u001b[1m)\u001b[0m,\n",
       "\u001b[2;32m│   │   │   \u001b[0m\u001b[1m(\u001b[0m\u001b[32m' D'\u001b[0m, \u001b[1;36m-1.5304588959369183\u001b[0m\u001b[1m)\u001b[0m\n",
       "\u001b[2;32m│   │   \u001b[0m\u001b[1m]\u001b[0m\n",
       "\u001b[2;32m│   \u001b[0m\u001b[1m}\u001b[0m,\n",
       "\u001b[2;32m│   \u001b[0m\u001b[33mdistribution_variable\u001b[0m=\u001b[32m'ANSWER'\u001b[0m,\n",
       "\u001b[2;32m│   \u001b[0m\u001b[33mdistribution_values\u001b[0m=\u001b[1m[\u001b[0m\u001b[32m' A'\u001b[0m, \u001b[32m' B'\u001b[0m, \u001b[32m' C'\u001b[0m, \u001b[32m' D'\u001b[0m\u001b[1m]\u001b[0m,\n",
       "\u001b[2;32m│   \u001b[0m\u001b[33msequence\u001b[0m=\u001b[3;35mNone\u001b[0m\n",
       "\u001b[1m)\u001b[0m\n"
      ]
     },
     "metadata": {},
     "output_type": "display_data"
    }
   ],
   "source": [
    "pprint(lmql_response)"
   ]
  },
  {
   "cell_type": "code",
   "execution_count": 20,
   "metadata": {},
   "outputs": [],
   "source": [
    "import matplotlib.pyplot as plt"
   ]
  },
  {
   "cell_type": "code",
   "execution_count": 21,
   "metadata": {},
   "outputs": [],
   "source": [
    "async def answer_question(question, prompt):\n",
    "    global local_model\n",
    "    lmql_response = await evaluate_question(question, prompt, model=local_model)\n",
    "    # Render a horizontal bar chart of the distribution\n",
    "    distribution: list[tuple[str,float]] = lmql_response.variables['P(ANSWER)']\n",
    "    answers, probabilities = zip(*distribution)\n",
    "    fig, ax = plt.subplots()\n",
    "    ax.barh(answers, probabilities)\n",
    "    # Make the answer with the highest probability stand out\n",
    "    max_index = probabilities.index(max(probabilities))\n",
    "    ax.get_children()[max_index].set_color('r')\n",
    "    ax.set_xlabel('Probability')\n",
    "    # Set the title to the answer with the highest probability and its value\n",
    "    ax.set_title(f'{answers[max_index]}: {probabilities[max_index]*100:.2f}%')\n",
    "    plt.show()\n"
   ]
  },
  {
   "cell_type": "code",
   "execution_count": 22,
   "metadata": {},
   "outputs": [
    {
     "data": {
      "image/png": "[encoded data removed]",
      "text/plain": [
       "<Figure size 640x480 with 1 Axes>"
      ]
     },
     "metadata": {},
     "output_type": "display_data"
    }
   ],
   "source": [
    "await answer_question(question, prompt_1)"
   ]
  },
  {
   "cell_type": "code",
   "execution_count": 23,
   "metadata": {},
   "outputs": [
    {
     "data": {
      "image/png": "[encoded data removed]",
      "text/plain": [
       "<Figure size 640x480 with 1 Axes>"
      ]
     },
     "metadata": {},
     "output_type": "display_data"
    }
   ],
   "source": [
    "await answer_question(question, prompt_2)"
   ]
  },
  {
   "cell_type": "code",
   "execution_count": 24,
   "metadata": {},
   "outputs": [
    {
     "data": {
      "image/png": "[encoded data removed]",
      "text/plain": [
       "<Figure size 640x480 with 1 Axes>"
      ]
     },
     "metadata": {},
     "output_type": "display_data"
    }
   ],
   "source": [
    "await answer_question(question, prompt_3)"
   ]
  }
 ],
 "metadata": {
  "kernelspec": {
   "display_name": "lmql-demo-g2XuB1Kg-py3.10",
   "language": "python",
   "name": "python3"
  },
  "language_info": {
   "codemirror_mode": {
    "name": "ipython",
    "version": 3
   },
   "file_extension": ".py",
   "mimetype": "text/x-python",
   "name": "python",
   "nbconvert_exporter": "python",
   "pygments_lexer": "ipython3",
   "version": "3.10.6"
  }
 },
 "nbformat": 4,
 "nbformat_minor": 2
}
