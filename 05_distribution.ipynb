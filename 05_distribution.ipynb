{
 "cells": [
  {
   "cell_type": "code",
   "execution_count": 1,
   "metadata": {},
   "outputs": [
    {
     "name": "stdout",
     "output_type": "stream",
     "text": [
      "The file 'llama2/llama-2-7b.Q4_K_M.gguf' already exists.\n"
     ]
    }
   ],
   "source": [
    "import lmql_demo.download as download\n",
    "\n",
    "llama2_tokenizer = \"llama2/llama-tokenizer.model\"\n",
    "mistral_tokenizer = \"llama2/mistral-tokenizer.model\"\n",
    "model_filename = download.download_llama2()"
   ]
  },
  {
   "cell_type": "code",
   "execution_count": 2,
   "metadata": {},
   "outputs": [],
   "source": [
    "import lmql\n",
    "from rich.pretty import pprint\n"
   ]
  },
  {
   "cell_type": "code",
   "execution_count": 3,
   "metadata": {},
   "outputs": [],
   "source": [
    "local_model = lmql.model(f\"local:llama.cpp:{model_filename}\", tokenizer=llama2_tokenizer)"
   ]
  },
  {
   "cell_type": "code",
   "execution_count": 4,
   "metadata": {},
   "outputs": [],
   "source": [
    "@lmql.query\n",
    "async def sentiment_analysis(text: str) -> str:\n",
    "    '''lmql\n",
    "    \"\"\"You are a sentiment analyzer. Given a text, you should return a sentiment label and\n",
    "    a short one sentence explanation. Possible lables are POSITIVE, NEGATIVE and NEUTRAL.\n",
    "\n",
    "    Example:\n",
    "    text: I love this movie!\n",
    "    thought: The word love indicates a positive sentiment.\n",
    "    sentiment: POSITIVE\n",
    "\n",
    "    text: The movie was quite dull.\n",
    "    thought: The word dull conveys a negative sentiment.\n",
    "    sentiment: NEGATIVE\n",
    "    \n",
    "    \"\"\"\n",
    "    \"text: {text}\\n\"\n",
    "    \"thought: [THOUGHT]\\n\" where STOPS_BEFORE(THOUGHT,\"\\n\") and len(TOKENS(THOUGHT)) < 100\n",
    "    \"sentiment:[SENTIMENT]\" distribution SENTIMENT in [\" POSITIVE\", \" NEGATIVE\", \" NEUTRAL\"]\n",
    "    '''"
   ]
  },
  {
   "cell_type": "code",
   "execution_count": 8,
   "metadata": {},
   "outputs": [
    {
     "data": {
      "text/html": [
       "<pre style=\"white-space:pre;overflow-x:auto;line-height:normal;font-family:Menlo,'DejaVu Sans Mono',consolas,'Courier New',monospace\"><span style=\"color: #800080; text-decoration-color: #800080; font-weight: bold\">LMQLResult</span><span style=\"font-weight: bold\">(</span>\n",
       "<span style=\"color: #7fbf7f; text-decoration-color: #7fbf7f\">│   </span><span style=\"color: #808000; text-decoration-color: #808000\">prompt</span>=<span style=\"color: #008000; text-decoration-color: #008000\">'You are a sentiment analyzer. Given a text, you should return a sentiment label and\\na short one sentence explanation. Possible lables are POSITIVE, NEGATIVE and NEUTRAL.\\nExample:\\ntext: I love this movie!\\nthought: The word love indicates a positive sentiment.\\nsentiment: POSITIVE\\ntext: The movie was quite dull.\\nthought: The word dull conveys a negative sentiment.\\nsentiment: NEGATIVE\\ntext: Even though the hotel was a little spendy we loved our stay there.\\nthought:  The word loved indicates a positive sentiment.\\nsentiment: POSITIVE'</span>,\n",
       "<span style=\"color: #7fbf7f; text-decoration-color: #7fbf7f\">│   </span><span style=\"color: #808000; text-decoration-color: #808000\">variables</span>=<span style=\"font-weight: bold\">{</span>\n",
       "<span style=\"color: #7fbf7f; text-decoration-color: #7fbf7f\">│   │   </span><span style=\"color: #008000; text-decoration-color: #008000\">'THOUGHT'</span>: <span style=\"color: #008000; text-decoration-color: #008000\">' The word loved indicates a positive sentiment.'</span>,\n",
       "<span style=\"color: #7fbf7f; text-decoration-color: #7fbf7f\">│   │   </span><span style=\"color: #008000; text-decoration-color: #008000\">'SENTIMENT'</span>: <span style=\"color: #008000; text-decoration-color: #008000\">' POSITIVE'</span>,\n",
       "<span style=\"color: #7fbf7f; text-decoration-color: #7fbf7f\">│   │   </span><span style=\"color: #008000; text-decoration-color: #008000\">'P(SENTIMENT)'</span>: <span style=\"font-weight: bold\">[</span>\n",
       "<span style=\"color: #7fbf7f; text-decoration-color: #7fbf7f\">│   │   │   </span><span style=\"font-weight: bold\">(</span><span style=\"color: #008000; text-decoration-color: #008000\">' POSITIVE'</span>, <span style=\"color: #008080; text-decoration-color: #008080; font-weight: bold\">0.5604758702774101</span><span style=\"font-weight: bold\">)</span>,\n",
       "<span style=\"color: #7fbf7f; text-decoration-color: #7fbf7f\">│   │   │   </span><span style=\"font-weight: bold\">(</span><span style=\"color: #008000; text-decoration-color: #008000\">' NEGATIVE'</span>, <span style=\"color: #008080; text-decoration-color: #008080; font-weight: bold\">0.1963316950580992</span><span style=\"font-weight: bold\">)</span>,\n",
       "<span style=\"color: #7fbf7f; text-decoration-color: #7fbf7f\">│   │   │   </span><span style=\"font-weight: bold\">(</span><span style=\"color: #008000; text-decoration-color: #008000\">' NEUTRAL'</span>, <span style=\"color: #008080; text-decoration-color: #008080; font-weight: bold\">0.24319243466449064</span><span style=\"font-weight: bold\">)</span>\n",
       "<span style=\"color: #7fbf7f; text-decoration-color: #7fbf7f\">│   │   </span><span style=\"font-weight: bold\">]</span>,\n",
       "<span style=\"color: #7fbf7f; text-decoration-color: #7fbf7f\">│   │   </span><span style=\"color: #008000; text-decoration-color: #008000\">'log P(SENTIMENT)'</span>: <span style=\"font-weight: bold\">[</span>\n",
       "<span style=\"color: #7fbf7f; text-decoration-color: #7fbf7f\">│   │   │   </span><span style=\"font-weight: bold\">(</span><span style=\"color: #008000; text-decoration-color: #008000\">' POSITIVE'</span>, <span style=\"color: #008080; text-decoration-color: #008080; font-weight: bold\">-0.5789690877491398</span><span style=\"font-weight: bold\">)</span>,\n",
       "<span style=\"color: #7fbf7f; text-decoration-color: #7fbf7f\">│   │   │   </span><span style=\"font-weight: bold\">(</span><span style=\"color: #008000; text-decoration-color: #008000\">' NEGATIVE'</span>, <span style=\"color: #008080; text-decoration-color: #008080; font-weight: bold\">-1.6279497283895057</span><span style=\"font-weight: bold\">)</span>,\n",
       "<span style=\"color: #7fbf7f; text-decoration-color: #7fbf7f\">│   │   │   </span><span style=\"font-weight: bold\">(</span><span style=\"color: #008000; text-decoration-color: #008000\">' NEUTRAL'</span>, <span style=\"color: #008080; text-decoration-color: #008080; font-weight: bold\">-1.4139022368390601</span><span style=\"font-weight: bold\">)</span>\n",
       "<span style=\"color: #7fbf7f; text-decoration-color: #7fbf7f\">│   │   </span><span style=\"font-weight: bold\">]</span>\n",
       "<span style=\"color: #7fbf7f; text-decoration-color: #7fbf7f\">│   </span><span style=\"font-weight: bold\">}</span>,\n",
       "<span style=\"color: #7fbf7f; text-decoration-color: #7fbf7f\">│   </span><span style=\"color: #808000; text-decoration-color: #808000\">distribution_variable</span>=<span style=\"color: #008000; text-decoration-color: #008000\">'SENTIMENT'</span>,\n",
       "<span style=\"color: #7fbf7f; text-decoration-color: #7fbf7f\">│   </span><span style=\"color: #808000; text-decoration-color: #808000\">distribution_values</span>=<span style=\"font-weight: bold\">[</span><span style=\"color: #008000; text-decoration-color: #008000\">' POSITIVE'</span>, <span style=\"color: #008000; text-decoration-color: #008000\">' NEGATIVE'</span>, <span style=\"color: #008000; text-decoration-color: #008000\">' NEUTRAL'</span><span style=\"font-weight: bold\">]</span>,\n",
       "<span style=\"color: #7fbf7f; text-decoration-color: #7fbf7f\">│   </span><span style=\"color: #808000; text-decoration-color: #808000\">sequence</span>=<span style=\"font-weight: bold\">&lt;</span><span style=\"color: #ff00ff; text-decoration-color: #ff00ff; font-weight: bold\">detseq</span><span style=\"color: #000000; text-decoration-color: #000000\"> </span><span style=\"color: #808000; text-decoration-color: #808000\">token_len</span><span style=\"color: #000000; text-decoration-color: #000000\">=</span><span style=\"color: #008080; text-decoration-color: #008080; font-weight: bold\">144</span><span style=\"color: #000000; text-decoration-color: #000000\"> </span><span style=\"color: #808000; text-decoration-color: #808000\">ids</span><span style=\"color: #000000; text-decoration-color: #000000\">=</span><span style=\"color: #000000; text-decoration-color: #000000; font-weight: bold\">[</span><span style=\"color: #008000; text-decoration-color: #008000\">b'14088'</span><span style=\"color: #000000; text-decoration-color: #000000\">, </span><span style=\"color: #008000; text-decoration-color: #008000\">b'263'</span><span style=\"color: #000000; text-decoration-color: #000000\">, </span><span style=\"color: #008000; text-decoration-color: #008000\">b'6374'</span><span style=\"color: #000000; text-decoration-color: #000000\">, </span><span style=\"color: #008000; text-decoration-color: #008000\">b'19688'</span><span style=\"color: #000000; text-decoration-color: #000000\">, </span><span style=\"color: #008000; text-decoration-color: #008000\">b'29889'</span><span style=\"color: #000000; text-decoration-color: #000000\">, </span><span style=\"color: #008000; text-decoration-color: #008000\">b'13'</span><span style=\"color: #000000; text-decoration-color: #000000\">, </span><span style=\"color: #008000; text-decoration-color: #008000\">b'18616'</span><span style=\"color: #000000; text-decoration-color: #000000\">, </span><span style=\"color: #008000; text-decoration-color: #008000\">b'2073'</span><span style=\"color: #000000; text-decoration-color: #000000\">, </span><span style=\"color: #008000; text-decoration-color: #008000\">b'29901'</span><span style=\"color: #000000; text-decoration-color: #000000\">, </span><span style=\"color: #008000; text-decoration-color: #008000\">b'2'</span><span style=\"color: #000000; text-decoration-color: #000000; font-weight: bold\">]</span><span style=\"color: #000000; text-decoration-color: #000000\"> </span><span style=\"color: #808000; text-decoration-color: #808000\">next_ids</span><span style=\"color: #000000; text-decoration-color: #000000\">=</span><span style=\"color: #000000; text-decoration-color: #000000; font-weight: bold\">[]</span><span style=\"font-weight: bold\">&gt;</span>\n",
       "<span style=\"font-weight: bold\">)</span>\n",
       "</pre>\n"
      ],
      "text/plain": [
       "\u001b[1;35mLMQLResult\u001b[0m\u001b[1m(\u001b[0m\n",
       "\u001b[2;32m│   \u001b[0m\u001b[33mprompt\u001b[0m=\u001b[32m'You are a sentiment analyzer. Given a text, you should return a sentiment label and\\na short one sentence explanation. Possible lables are POSITIVE, NEGATIVE and NEUTRAL.\\nExample:\\ntext: I love this movie!\\nthought: The word love indicates a positive sentiment.\\nsentiment: POSITIVE\\ntext: The movie was quite dull.\\nthought: The word dull conveys a negative sentiment.\\nsentiment: NEGATIVE\\ntext: Even though the hotel was a little spendy we loved our stay there.\\nthought:  The word loved indicates a positive sentiment.\\nsentiment: POSITIVE'\u001b[0m,\n",
       "\u001b[2;32m│   \u001b[0m\u001b[33mvariables\u001b[0m=\u001b[1m{\u001b[0m\n",
       "\u001b[2;32m│   │   \u001b[0m\u001b[32m'THOUGHT'\u001b[0m: \u001b[32m' The word loved indicates a positive sentiment.'\u001b[0m,\n",
       "\u001b[2;32m│   │   \u001b[0m\u001b[32m'SENTIMENT'\u001b[0m: \u001b[32m' POSITIVE'\u001b[0m,\n",
       "\u001b[2;32m│   │   \u001b[0m\u001b[32m'P\u001b[0m\u001b[32m(\u001b[0m\u001b[32mSENTIMENT\u001b[0m\u001b[32m)\u001b[0m\u001b[32m'\u001b[0m: \u001b[1m[\u001b[0m\n",
       "\u001b[2;32m│   │   │   \u001b[0m\u001b[1m(\u001b[0m\u001b[32m' POSITIVE'\u001b[0m, \u001b[1;36m0.5604758702774101\u001b[0m\u001b[1m)\u001b[0m,\n",
       "\u001b[2;32m│   │   │   \u001b[0m\u001b[1m(\u001b[0m\u001b[32m' NEGATIVE'\u001b[0m, \u001b[1;36m0.1963316950580992\u001b[0m\u001b[1m)\u001b[0m,\n",
       "\u001b[2;32m│   │   │   \u001b[0m\u001b[1m(\u001b[0m\u001b[32m' NEUTRAL'\u001b[0m, \u001b[1;36m0.24319243466449064\u001b[0m\u001b[1m)\u001b[0m\n",
       "\u001b[2;32m│   │   \u001b[0m\u001b[1m]\u001b[0m,\n",
       "\u001b[2;32m│   │   \u001b[0m\u001b[32m'log P\u001b[0m\u001b[32m(\u001b[0m\u001b[32mSENTIMENT\u001b[0m\u001b[32m)\u001b[0m\u001b[32m'\u001b[0m: \u001b[1m[\u001b[0m\n",
       "\u001b[2;32m│   │   │   \u001b[0m\u001b[1m(\u001b[0m\u001b[32m' POSITIVE'\u001b[0m, \u001b[1;36m-0.5789690877491398\u001b[0m\u001b[1m)\u001b[0m,\n",
       "\u001b[2;32m│   │   │   \u001b[0m\u001b[1m(\u001b[0m\u001b[32m' NEGATIVE'\u001b[0m, \u001b[1;36m-1.6279497283895057\u001b[0m\u001b[1m)\u001b[0m,\n",
       "\u001b[2;32m│   │   │   \u001b[0m\u001b[1m(\u001b[0m\u001b[32m' NEUTRAL'\u001b[0m, \u001b[1;36m-1.4139022368390601\u001b[0m\u001b[1m)\u001b[0m\n",
       "\u001b[2;32m│   │   \u001b[0m\u001b[1m]\u001b[0m\n",
       "\u001b[2;32m│   \u001b[0m\u001b[1m}\u001b[0m,\n",
       "\u001b[2;32m│   \u001b[0m\u001b[33mdistribution_variable\u001b[0m=\u001b[32m'SENTIMENT'\u001b[0m,\n",
       "\u001b[2;32m│   \u001b[0m\u001b[33mdistribution_values\u001b[0m=\u001b[1m[\u001b[0m\u001b[32m' POSITIVE'\u001b[0m, \u001b[32m' NEGATIVE'\u001b[0m, \u001b[32m' NEUTRAL'\u001b[0m\u001b[1m]\u001b[0m,\n",
       "\u001b[2;32m│   \u001b[0m\u001b[33msequence\u001b[0m=\u001b[1m<\u001b[0m\u001b[1;95mdetseq\u001b[0m\u001b[39m \u001b[0m\u001b[33mtoken_len\u001b[0m\u001b[39m=\u001b[0m\u001b[1;36m144\u001b[0m\u001b[39m \u001b[0m\u001b[33mids\u001b[0m\u001b[39m=\u001b[0m\u001b[1;39m[\u001b[0m\u001b[32mb'14088'\u001b[0m\u001b[39m, \u001b[0m\u001b[32mb'263'\u001b[0m\u001b[39m, \u001b[0m\u001b[32mb'6374'\u001b[0m\u001b[39m, \u001b[0m\u001b[32mb'19688'\u001b[0m\u001b[39m, \u001b[0m\u001b[32mb'29889'\u001b[0m\u001b[39m, \u001b[0m\u001b[32mb'13'\u001b[0m\u001b[39m, \u001b[0m\u001b[32mb'18616'\u001b[0m\u001b[39m, \u001b[0m\u001b[32mb'2073'\u001b[0m\u001b[39m, \u001b[0m\u001b[32mb'29901'\u001b[0m\u001b[39m, \u001b[0m\u001b[32mb'2'\u001b[0m\u001b[1;39m]\u001b[0m\u001b[39m \u001b[0m\u001b[33mnext_ids\u001b[0m\u001b[39m=\u001b[0m\u001b[1;39m[\u001b[0m\u001b[1;39m]\u001b[0m\u001b[1m>\u001b[0m\n",
       "\u001b[1m)\u001b[0m\n"
      ]
     },
     "metadata": {},
     "output_type": "display_data"
    }
   ],
   "source": [
    "result = await(sentiment_analysis(\"Even though the hotel was a little spendy we loved our stay there.\", model=local_model))\n",
    "pprint(result)"
   ]
  }
 ],
 "metadata": {
  "kernelspec": {
   "display_name": "lmql-demo-g2XuB1Kg-py3.10",
   "language": "python",
   "name": "python3"
  },
  "language_info": {
   "codemirror_mode": {
    "name": "ipython",
    "version": 3
   },
   "file_extension": ".py",
   "mimetype": "text/x-python",
   "name": "python",
   "nbconvert_exporter": "python",
   "pygments_lexer": "ipython3",
   "version": "3.10.6"
  }
 },
 "nbformat": 4,
 "nbformat_minor": 2
}
